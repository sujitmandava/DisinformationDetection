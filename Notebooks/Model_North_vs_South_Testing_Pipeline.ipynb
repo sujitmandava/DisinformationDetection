{
  "cells": [
    {
      "cell_type": "code",
      "execution_count": null,
      "metadata": {
        "colab": {
          "base_uri": "https://localhost:8080/"
        },
        "id": "6mmBeqsZM8s6",
        "outputId": "e97d45db-76d7-4d6c-fe0a-b208e4f0ae93"
      },
      "outputs": [
        {
          "output_type": "stream",
          "name": "stdout",
          "text": [
            "Found GPU at: /device:GPU:0\n"
          ]
        }
      ],
      "source": [
        "import tensorflow as tf\n",
        "device_name = tf.test.gpu_device_name()\n",
        "if device_name != '/device:GPU:0':\n",
        "  raise SystemError('GPU device not found')\n",
        "print('Found GPU at: {}'.format(device_name))"
      ]
    },
    {
      "cell_type": "code",
      "execution_count": null,
      "metadata": {
        "colab": {
          "base_uri": "https://localhost:8080/"
        },
        "id": "JGo48v3mM8Mh",
        "outputId": "2b150826-2224-4093-b504-b866168a48e9"
      },
      "outputs": [
        {
          "output_type": "stream",
          "name": "stdout",
          "text": [
            "Mounted at /content/drive\n"
          ]
        }
      ],
      "source": [
        "from google.colab import drive\n",
        "drive.mount(\"/content/drive\")"
      ]
    },
    {
      "cell_type": "code",
      "execution_count": null,
      "metadata": {
        "colab": {
          "base_uri": "https://localhost:8080/"
        },
        "id": "3e82JeQvzBSd",
        "outputId": "b53b28a3-d47c-422c-e352-6a7bf5f8423c"
      },
      "outputs": [
        {
          "output_type": "stream",
          "name": "stdout",
          "text": [
            "Requirement already satisfied: keras in /usr/local/lib/python3.10/dist-packages (2.15.0)\n",
            "\u001b[31mERROR: Could not find a version that satisfies the requirement tensorflo (from versions: none)\u001b[0m\u001b[31m\n",
            "\u001b[0m\u001b[31mERROR: No matching distribution found for tensorflo\u001b[0m\u001b[31m\n",
            "\u001b[0m"
          ]
        }
      ],
      "source": [
        "!pip install keras\n",
        "!pip install tensorflo\n"
      ]
    },
    {
      "cell_type": "code",
      "execution_count": null,
      "metadata": {
        "id": "iPWsxgflM7wL"
      },
      "outputs": [],
      "source": [
        "import pandas as pd\n",
        "import numpy as np\n",
        "import matplotlib.pyplot as plt\n",
        "import seaborn as sns\n",
        "\n",
        "import nltk\n",
        "import re\n",
        "from nltk.stem import PorterStemmer, WordNetLemmatizer\n",
        "from nltk.corpus import stopwords\n",
        "from nltk.tokenize import word_tokenize, sent_tokenize\n",
        "\n",
        "from sklearn.pipeline import Pipeline\n",
        "from sklearn.linear_model import LogisticRegression, SGDClassifier\n",
        "from sklearn.naive_bayes import GaussianNB, MultinomialNB, BernoulliNB\n",
        "from sklearn.neighbors import KNeighborsClassifier\n",
        "from sklearn.svm import LinearSVC\n",
        "from sklearn.tree import DecisionTreeClassifier\n",
        "from sklearn.ensemble import GradientBoostingClassifier, RandomForestClassifier\n",
        "from xgboost import XGBClassifier\n",
        "from sklearn.model_selection import train_test_split\n",
        "from sklearn.metrics import accuracy_score, confusion_matrix, classification_report\n",
        "from sklearn.feature_extraction.text import CountVectorizer, TfidfVectorizer\n",
        "\n",
        "import tensorflow as tf\n",
        "from tensorflow.keras.preprocessing import text, sequence\n",
        "from tensorflow.keras.preprocessing.text import one_hot\n",
        "from tensorflow.keras.preprocessing.sequence import pad_sequences\n",
        "from tensorflow.keras.models import Sequential\n",
        "from tensorflow.keras.layers import Embedding, Dense, LSTM, Dropout\n",
        "from tensorflow.keras.callbacks import Callback, ReduceLROnPlateau, EarlyStopping\n",
        "from tensorflow.keras.callbacks import History\n",
        "\n",
        "from keras.preprocessing.text import Tokenizer\n",
        "from keras import layers\n",
        "from keras.layers import Embedding\n",
        "from keras.layers import Reshape, Flatten\n",
        "from keras.models import Sequential, Model\n",
        "from keras.layers import Dense, Activation\n",
        "from keras.layers import Flatten, Conv1D, SpatialDropout1D, MaxPooling1D\n",
        "from keras.layers import AveragePooling1D, Input, Dropout, concatenate\n",
        "\n",
        "from wordcloud import WordCloud, STOPWORDS\n",
        "\n",
        "import pickle\n",
        "from keras.callbacks import EarlyStopping\n",
        "from imblearn.over_sampling import RandomOverSampler\n",
        "from imblearn.under_sampling import RandomUnderSampler"
      ]
    },
    {
      "cell_type": "markdown",
      "metadata": {
        "id": "8a-akbu076Ab"
      },
      "source": [
        "#read data"
      ]
    },
    {
      "cell_type": "markdown",
      "source": [
        "###North"
      ],
      "metadata": {
        "id": "9OVxGVFW8z7f"
      }
    },
    {
      "cell_type": "code",
      "execution_count": null,
      "metadata": {
        "colab": {
          "base_uri": "https://localhost:8080/"
        },
        "id": "do1xpmYm75a3",
        "outputId": "b5b97ad5-9b67-4b17-82d2-e5ab95e32544"
      },
      "outputs": [
        {
          "output_type": "stream",
          "name": "stdout",
          "text": [
            "(40025, 2)\n",
            "23481\n",
            "16544\n"
          ]
        }
      ],
      "source": [
        "'''\n",
        "This cell is primarily from global north\n",
        "'''\n",
        "# For ISOT Dataset\n",
        "df1 = pd.read_csv('/content/drive/MyDrive/Datasets_BTP/ISOT/Fake.csv', delimiter=',')\n",
        "df2 = pd.read_csv('/content/drive/MyDrive/Datasets_BTP/ISOT/True_GN.csv', delimiter = ',')\n",
        "df1['label'] = 0\n",
        "df2['label'] = 1\n",
        "df_isot = pd.concat([df1,df2])\n",
        "df_isot = df_isot[['text','label']]\n",
        "print(df_isot.shape)\n",
        "\n",
        "num_class_A_train = np.sum(df_isot['label'] == 0)\n",
        "num_class_B_train = np.sum(df_isot['label'] == 1)\n",
        "print(num_class_A_train)\n",
        "print(num_class_B_train)"
      ]
    },
    {
      "cell_type": "code",
      "source": [
        "\"\"\"\n",
        "Uncomment cell to oversample real data in GN\n",
        "\"\"\"\n",
        "# # Separate features and labels\n",
        "# X = df_isot[['text']]\n",
        "# y = df_isot['label']\n",
        "\n",
        "# oversampler = RandomOverSampler(random_state=42)\n",
        "\n",
        "# # Resample the data\n",
        "# X_resampled, y_resampled = oversampler.fit_resample(df_isot[['text']], df_isot['label'])\n",
        "\n",
        "# # Create a new DataFrame with resampled data\n",
        "# df_isot = pd.DataFrame(X_resampled, columns=['text'])\n",
        "# df_isot['label'] = y_resampled\n",
        "\n",
        "# # Check the class distribution after oversampling\n",
        "# print(df_isot['label'].value_counts())"
      ],
      "metadata": {
        "id": "gzFkRson85D1"
      },
      "execution_count": null,
      "outputs": []
    },
    {
      "cell_type": "markdown",
      "source": [
        "###South"
      ],
      "metadata": {
        "id": "Omofn2oN83Dc"
      }
    },
    {
      "cell_type": "code",
      "execution_count": null,
      "metadata": {
        "colab": {
          "base_uri": "https://localhost:8080/"
        },
        "id": "qt5MSxpnlZvz",
        "outputId": "5b4d1a16-92b1-43ce-b609-79bf0e7eb41b"
      },
      "outputs": [
        {
          "output_type": "stream",
          "name": "stdout",
          "text": [
            "4802\n",
            "5741\n"
          ]
        }
      ],
      "source": [
        "'''\n",
        "This cell is primarily from global south\n",
        "'''\n",
        "# For GS Dataset\n",
        "df1 = pd.read_csv('/content/drive/MyDrive/Datasets_BTP/FNI/fakenewsincidents_india_dataset_v1.csv', delimiter=',')\n",
        "df2 = pd.read_csv('/content/drive/MyDrive/Datasets_BTP/ISOT/True_GS_Complete.csv', delimiter = ',')\n",
        "df1['label'] = 0\n",
        "df1 = df1.rename(columns={'Content': 'text'})\n",
        "df2['label'] = 1\n",
        "df_all_features_gs = pd.concat([df1,df2])\n",
        "df_gs = df_all_features_gs[['text','label']]\n",
        "\n",
        "X = df_gs[['text']]\n",
        "y = df_gs['label']\n",
        "\n",
        "num_class_A_train = np.sum(df_gs['label'] == 0)\n",
        "num_class_B_train = np.sum(df_gs['label'] == 1)\n",
        "print(num_class_A_train)\n",
        "print(num_class_B_train)"
      ]
    },
    {
      "cell_type": "code",
      "source": [
        "'''Uncomment for oversampling class with lesser count'''\n",
        "\n",
        "# oversampler = RandomOverSampler(random_state=42)\n",
        "\n",
        "# # Resample the data\n",
        "# X_resampled, y_resampled = oversampler.fit_resample(df_gs[['text']], df_gs['label'])\n",
        "\n",
        "# # Create a new DataFrame with resampled data\n",
        "# df_gs = pd.DataFrame(X_resampled, columns=['text'])\n",
        "# df_gs['label'] = y_resampled\n",
        "\n",
        "# # Check the class distribution after oversampling\n",
        "# print(df_gs['label'].value_counts())\n",
        "\n",
        "# df_gs.head()"
      ],
      "metadata": {
        "id": "VGEt5Ybx2i3J"
      },
      "execution_count": null,
      "outputs": []
    },
    {
      "cell_type": "code",
      "source": [
        "# X = df_gs[['text']]\n",
        "# y = df_gs['label']\n",
        "\n",
        "# X_isot = df_isot[['text']]\n",
        "# y_isot = df_isot['label']\n",
        "\n",
        "# targetCount = 6200\n",
        "# strategy = {0: targetCount, 1: targetCount}\n",
        "# ros = RandomOverSampler(sampling_strategy=strategy, random_state=42)\n",
        "# rus = RandomUnderSampler(sampling_strategy=strategy, random_state=42)\n",
        "\n",
        "# X_resampled, y_resampled = ros.fit_resample(X, y)\n",
        "# Xus, yus = rus.fit_resample(X_isot, y_isot)\n",
        "\n",
        "# df_gs = pd.DataFrame(X_resampled, columns=['text'])\n",
        "# df_gs['label'] = y_resampled\n",
        "\n",
        "# df_isot = pd.DataFrame(Xus, columns=['text'])\n",
        "# df_isot['label'] = yus\n",
        "\n",
        "# print('-----------------------------')\n",
        "# print(df_gs['label'].value_counts())\n",
        "# print('-----------------------------')\n",
        "# print(df_isot['label'].value_counts())\n",
        "# print('-----------------------------')\n",
        "\n",
        "# df_isot['text'] = df_isot['text'].astype(str)\n",
        "# df_gs['text'] = df_gs['text'].astype(str)"
      ],
      "metadata": {
        "id": "HlaTXBfy5lx9"
      },
      "execution_count": null,
      "outputs": []
    },
    {
      "cell_type": "markdown",
      "source": [
        "###Tokenizer"
      ],
      "metadata": {
        "id": "OdC2mNIEBcJW"
      }
    },
    {
      "cell_type": "code",
      "source": [
        "df = pd.concat([df_gs, df_isot])\n",
        "df['text'] = df['text'].astype('str')"
      ],
      "metadata": {
        "id": "PLGR3u_U4NTU"
      },
      "execution_count": null,
      "outputs": []
    },
    {
      "cell_type": "code",
      "execution_count": null,
      "metadata": {
        "id": "EruUfJMw8mad",
        "colab": {
          "base_uri": "https://localhost:8080/"
        },
        "outputId": "28347853-7cf2-4928-98ed-c504c242312f"
      },
      "outputs": [
        {
          "output_type": "stream",
          "name": "stdout",
          "text": [
            "Found 162301 unique tokens.\n"
          ]
        }
      ],
      "source": [
        "# Maximum number of words to be embedded\n",
        "NUM_WORDS = 30000\n",
        "EMBEDDING_DIM=100\n",
        "# max length to be encoded for a sentence\n",
        "MAX_SEQUENCE_LENGTH = 1000\n",
        "\n",
        "# Define Tokenize text function\n",
        "tokenizer = Tokenizer(num_words=NUM_WORDS,filters='!\"#$%&()*+,-./:;<=>?@[\\\\]^_`{|}~\\t\\n\\'', lower=True)\n",
        "tokenizer.fit_on_texts(df['text'])\n",
        "\n",
        "sequences_gn = tokenizer.texts_to_sequences(df_isot['text'])\n",
        "data_gn = pad_sequences(sequences_gn, maxlen=MAX_SEQUENCE_LENGTH,padding='post')\n",
        "\n",
        "sequences_gs = tokenizer.texts_to_sequences(df_gs['text'].astype(str))\n",
        "data_gs = pad_sequences(sequences_gs, maxlen=MAX_SEQUENCE_LENGTH,padding='post')\n",
        "\n",
        "# # Count number of unique tokens\n",
        "word_index = tokenizer.word_index\n",
        "print('Found %s unique tokens.' % len(word_index))"
      ]
    },
    {
      "cell_type": "code",
      "execution_count": null,
      "metadata": {
        "id": "O94cd80Q9GUC"
      },
      "outputs": [],
      "source": [
        "X_train_gn, X_test_gn, y_train_gn, y_test_gn = train_test_split(\n",
        "    data_gn,  # Features (input)\n",
        "    df_isot['label'],  # Target variable (output)\n",
        "    test_size=0.2,  # Proportion of the dataset to include in the test split (20% in this example)\n",
        "    random_state=42  # Seed used by the random number generator for reproducibility\n",
        ")\n",
        "\n",
        "X_train_gs, X_test_gs, y_train_gs, y_test_gs = train_test_split(\n",
        "    data_gs,  # Features (input)\n",
        "    df_gs['label'],  # Target variable (output)\n",
        "    test_size=0.2,  # Proportion of the dataset to include in the test split (20% in this example)\n",
        "    random_state=42  # Seed used by the random number generator for reproducibility\n",
        ")"
      ]
    },
    {
      "cell_type": "markdown",
      "metadata": {
        "id": "OuJndvhl5qWW"
      },
      "source": [
        "### glove embedding"
      ]
    },
    {
      "cell_type": "code",
      "execution_count": null,
      "metadata": {
        "id": "8jZbb6AQ5pwG",
        "colab": {
          "base_uri": "https://localhost:8080/"
        },
        "outputId": "1bf5c38a-f515-46c5-c6fa-aa3e3be65634"
      },
      "outputs": [
        {
          "output_type": "stream",
          "name": "stdout",
          "text": [
            "Loaded 400000 word vectors.\n"
          ]
        }
      ],
      "source": [
        "word_vectors = dict()\n",
        "\n",
        "# load the whole embedding into memory\n",
        "f = open('/content/drive/MyDrive/glove.6B.100d.txt', encoding=\"utf8\")\n",
        "for line in f:\n",
        "    values = line.split()\n",
        "    word = values[0]\n",
        "    coefs = np.asarray(values[1:], dtype='float32')\n",
        "    word_vectors[word] = coefs\n",
        "f.close()\n",
        "print('Loaded %s word vectors.' % len(word_vectors))"
      ]
    },
    {
      "cell_type": "code",
      "execution_count": null,
      "metadata": {
        "id": "lOGwMJ6N6W__"
      },
      "outputs": [],
      "source": [
        "vocabulary_size=min(len(word_index)+1,(NUM_WORDS))\n",
        "#vocabulary_size= len(word_index)+1\n",
        "embedding_matrix = np.zeros((vocabulary_size, EMBEDDING_DIM))\n",
        "\n",
        "for word, i in word_index.items():\n",
        "    if i>=NUM_WORDS:\n",
        "        continue\n",
        "    try:\n",
        "        embedding_vector = word_vectors[word]\n",
        "        embedding_matrix[i] = embedding_vector\n",
        "    except KeyError:\n",
        "      # if the word is not found, set to all 0s\n",
        "        vec = np.zeros(EMBEDDING_DIM)\n",
        "        embedding_matrix[i]=vec\n",
        "\n",
        "#del(word_vectors)"
      ]
    },
    {
      "cell_type": "code",
      "execution_count": null,
      "metadata": {
        "id": "zeimAV6R-Mu5"
      },
      "outputs": [],
      "source": [
        "# Dfine Embedding function using the embedding_matrix\n",
        "embedding_layer = Embedding(vocabulary_size,\n",
        "                            EMBEDDING_DIM,\n",
        "                            weights=[embedding_matrix],\n",
        "                            input_length=MAX_SEQUENCE_LENGTH,\n",
        "                            trainable=False)"
      ]
    },
    {
      "cell_type": "code",
      "execution_count": null,
      "metadata": {
        "id": "WC-1NEr4fnhO"
      },
      "outputs": [],
      "source": [
        "# embedding_matrix.shape"
      ]
    },
    {
      "cell_type": "code",
      "execution_count": null,
      "metadata": {
        "id": "MUfqIkEHfttP"
      },
      "outputs": [],
      "source": [
        "# X_train.shape"
      ]
    },
    {
      "cell_type": "code",
      "execution_count": null,
      "metadata": {
        "id": "2PZTBoiq-PXw"
      },
      "outputs": [],
      "source": [
        "# del(embedding_matrix)"
      ]
    },
    {
      "cell_type": "markdown",
      "source": [
        "### Glove Embeddings for split network (Uncomment for model FNDNet_Split)"
      ],
      "metadata": {
        "id": "RwctsgM5Ugmp"
      }
    },
    {
      "cell_type": "code",
      "execution_count": null,
      "metadata": {
        "id": "KX9QfJvrUp61",
        "colab": {
          "base_uri": "https://localhost:8080/"
        },
        "outputId": "c0e1b56a-f7d6-4bb6-d125-c76e0923ba4a"
      },
      "outputs": [
        {
          "output_type": "stream",
          "name": "stdout",
          "text": [
            "Loaded 400000 word vectors.\n"
          ]
        }
      ],
      "source": [
        "# word_vectors = dict()\n",
        "\n",
        "# # load the whole embedding into memory\n",
        "# f = open('/content/drive/MyDrive/glove.6B.100d.txt', encoding=\"utf8\")\n",
        "# for line in f:\n",
        "#     values = line.split()\n",
        "#     word = values[0]\n",
        "#     coefs = np.asarray(values[1:], dtype='float32')\n",
        "#     word_vectors[word] = coefs\n",
        "# f.close()\n",
        "# print('Loaded %s word vectors.' % len(word_vectors))"
      ]
    },
    {
      "cell_type": "code",
      "execution_count": null,
      "metadata": {
        "id": "LXaRGEHzOVDg"
      },
      "outputs": [],
      "source": [
        "# word_index_GN = tokenizer.word_index\n",
        "# word_index_GS = tokenizer.word_index"
      ]
    },
    {
      "cell_type": "code",
      "execution_count": null,
      "metadata": {
        "id": "jpxviov5Up62"
      },
      "outputs": [],
      "source": [
        "# vocabulary_size=min(len(word_index_GN)+1,(NUM_WORDS))\n",
        "# embedding_matrix_GN = np.zeros((vocabulary_size, EMBEDDING_DIM))\n",
        "\n",
        "# for word, i in word_index_GN.items():\n",
        "#     if i>=NUM_WORDS:\n",
        "#         continue\n",
        "#     try:\n",
        "#         embedding_vector = word_vectors[word]\n",
        "#         embedding_matrix_GN[i] = embedding_vector\n",
        "#     except KeyError:\n",
        "#       # if the word is not found, set to all 0s\n",
        "#         vec = np.zeros(EMBEDDING_DIM)\n",
        "#         embedding_matrix_GN[i]=vec\n",
        "\n",
        "# #del(word_vectors)\n",
        "\n",
        "# vocabulary_size=min(len(word_index_GS)+1,(NUM_WORDS))\n",
        "# #vocabulary_size= len(word_index_GS)+1\n",
        "# embedding_matrix_GS = np.zeros((vocabulary_size, EMBEDDING_DIM))\n",
        "\n",
        "# for word, i in word_index_GS.items():\n",
        "#     if i>=NUM_WORDS:\n",
        "#         continue\n",
        "#     try:\n",
        "#         embedding_vector = word_vectors[word]\n",
        "#         embedding_matrix_GS[i] = embedding_vector\n",
        "#     except KeyError:\n",
        "#       # if the word is not found, set to all 0s\n",
        "#         vec = np.zeros(EMBEDDING_DIM)\n",
        "#         embedding_matrix_GS[i]=vec"
      ]
    },
    {
      "cell_type": "code",
      "execution_count": null,
      "metadata": {
        "id": "GBzxk2YCUp62"
      },
      "outputs": [],
      "source": [
        "# # Dfine Embedding function using the embedding_matrix\n",
        "# embedding_layer_A = Embedding(vocabulary_size,\n",
        "#                             EMBEDDING_DIM,\n",
        "#                             weights=[embedding_matrix_GN],\n",
        "#                             input_length=MAX_SEQUENCE_LENGTH,\n",
        "#                             trainable=False)\n",
        "\n",
        "# embedding_layer_B = Embedding(vocabulary_size,\n",
        "#                             EMBEDDING_DIM,\n",
        "#                             weights=[embedding_matrix_GS],\n",
        "#                             input_length=MAX_SEQUENCE_LENGTH,\n",
        "#                             trainable=False)"
      ]
    },
    {
      "cell_type": "markdown",
      "metadata": {
        "id": "RbpwbX_kfAbZ"
      },
      "source": [
        "\n",
        "# Model Definitions (Uncomment model being tested)*italicized text*"
      ]
    },
    {
      "cell_type": "code",
      "execution_count": null,
      "metadata": {
        "id": "sTPB55yLMa4s"
      },
      "outputs": [],
      "source": [
        "'''FNDNet (Original)'''\n",
        "\n",
        "# num_kernels = 128\n",
        "# kernel_sizes= [3,4,5]\n",
        "# pool_sizes = [800,799,798]\n",
        "\n",
        "# #embed_input = Input(shape=(max_length,))\n",
        "# #x = Embedding(vocab_size,output_dim,input_length=max_length)(embed_input)\n",
        "\n",
        "# inputs = Input(shape=(MAX_SEQUENCE_LENGTH,), dtype='float32')\n",
        "# embed_input = embedding_layer(inputs)\n",
        "\n",
        "# pool_outputs = []\n",
        "# for i in range(len(kernel_sizes)):\n",
        "#     conv = Conv1D(num_kernels, kernel_size=kernel_sizes[i], padding='valid', activation='relu')(embed_input)\n",
        "#     pool = MaxPooling1D(pool_size=pool_sizes[i], strides=1, padding = 'valid')(conv)\n",
        "#     pool_outputs.append(pool)\n",
        "# merge = concatenate(pool_outputs,axis = 1)\n",
        "\n",
        "# conv = Conv1D(num_kernels, kernel_size=5, activation='relu')(merge)\n",
        "# pool = MaxPooling1D(pool_size=5)(conv)\n",
        "# conv = Conv1D(num_kernels, kernel_size=5, activation='relu')(pool)\n",
        "# pool = MaxPooling1D(pool_size=30)(conv)\n",
        "\n",
        "# x = Flatten()(pool)\n",
        "# #x = Dropout(0.2)(x)\n",
        "# x = Dense(128, activation='relu')(x)\n",
        "# x = Dropout(0.2)(x)\n",
        "# x = Dense(1, activation='sigmoid')(x)\n",
        "# modelC = Model(inputs=inputs,outputs=x)\n",
        "\n",
        "# modelC.compile(loss='binary_crossentropy',\n",
        "#               #optimizer='Adadelta',\n",
        "#               optimizer='Adam',\n",
        "#               metrics=[tf.keras.metrics.Precision(), tf.keras.metrics.Recall()])"
      ]
    },
    {
      "cell_type": "code",
      "source": [
        "'''Simple Model'''\n",
        "# modelC = Sequential()\n",
        "# modelC.add(embedding_layer)\n",
        "# modelC.add(Flatten())\n",
        "# modelC.add(Dense(1, activation='sigmoid'))\n",
        "# # compile the modelC\n",
        "# # modelC.compile(optimizer='adam', loss='binary_crossentropy',\n",
        "#               # metrics=[tf.keras.metrics.Precision(), tf.keras.metrics.Recall()])\n",
        "# # summarize the modelC\n",
        "# # modelC.summary()"
      ],
      "metadata": {
        "id": "cnnq57Czi11j"
      },
      "execution_count": null,
      "outputs": []
    },
    {
      "cell_type": "code",
      "source": [
        "'''FNDNet (Split)'''\n",
        "\n",
        "# num_kernels = 128\n",
        "# kernel_sizes = [3, 4, 5]\n",
        "# pool_sizes = [800, 799, 798]\n",
        "\n",
        "# MAX_SEQUENCE_LENGTH = 1000\n",
        "\n",
        "# inputs = Input(shape=(MAX_SEQUENCE_LENGTH,), dtype='float32')\n",
        "\n",
        "# # Define your embedding layers A and B\n",
        "# embedding_layer_A = embedding_layer_A  # Your embedding layer A\n",
        "# embedding_layer_B = embedding_layer_B  # Your embedding layer B\n",
        "\n",
        "# # Embedding layer A\n",
        "# embed_input_A = embedding_layer_A(inputs)\n",
        "\n",
        "# # Embedding layer B\n",
        "# embed_input_B = embedding_layer_B(inputs)\n",
        "\n",
        "# # First half of the network for embedding A\n",
        "# pool_outputs1_A = []\n",
        "# for i in range(len(kernel_sizes)):\n",
        "#     conv_A = Conv1D(num_kernels, kernel_size=kernel_sizes[i], padding='valid', activation='relu')(embed_input_A)\n",
        "#     pool_A = MaxPooling1D(pool_size=pool_sizes[i], strides=1, padding='valid')(conv_A)\n",
        "#     pool_outputs1_A.append(pool_A)\n",
        "# merge1_A = concatenate(pool_outputs1_A, axis=1)\n",
        "\n",
        "# conv_A = Conv1D(num_kernels, kernel_size=5, activation='relu')(merge1_A)\n",
        "# pool_final1_A = MaxPooling1D(pool_size=30)(conv_A)\n",
        "\n",
        "# # First half of the network for embedding B\n",
        "# pool_outputs1_B = []\n",
        "# for i in range(len(kernel_sizes)):\n",
        "#     conv_B = Conv1D(num_kernels, kernel_size=kernel_sizes[i], padding='valid', activation='relu')(embed_input_B)\n",
        "#     pool_B = MaxPooling1D(pool_size=pool_sizes[i], strides=1, padding='valid')(conv_B)\n",
        "#     pool_outputs1_B.append(pool_B)\n",
        "# merge1_B = concatenate(pool_outputs1_B, axis=1)\n",
        "\n",
        "# conv_B = Conv1D(num_kernels, kernel_size=5, activation='relu')(merge1_B)\n",
        "# pool_final1_B = MaxPooling1D(pool_size=30)(conv_B)\n",
        "\n",
        "# # Concatenate the outputs of both halves\n",
        "# merged_final = concatenate([pool_final1_A, pool_final1_B], axis=1)\n",
        "\n",
        "# # Common second half of the network\n",
        "# x = Flatten()(merged_final)\n",
        "# x = Dense(128, activation='relu')(x)\n",
        "# x = Dropout(0.2)(x)\n",
        "# outputs = Dense(1, activation='sigmoid')(x)\n",
        "\n",
        "# # Create model with inputs and outputs\n",
        "# FNDNet_split = Model(inputs=inputs, outputs=outputs)\n",
        "\n",
        "# # Print model summary\n",
        "# FNDNet_split.summary()\n",
        "\n",
        "# modelC = FNDNet_split"
      ],
      "metadata": {
        "id": "WuRVsTvITiSi",
        "colab": {
          "base_uri": "https://localhost:8080/"
        },
        "outputId": "fa1cd2c6-6f16-4975-fe93-6912f915916a"
      },
      "execution_count": null,
      "outputs": [
        {
          "output_type": "stream",
          "name": "stdout",
          "text": [
            "Model: \"model_1\"\n",
            "__________________________________________________________________________________________________\n",
            " Layer (type)                Output Shape                 Param #   Connected to                  \n",
            "==================================================================================================\n",
            " input_2 (InputLayer)        [(None, 1000)]               0         []                            \n",
            "                                                                                                  \n",
            " embedding_1 (Embedding)     (None, 1000, 100)            3000000   ['input_2[0][0]']             \n",
            "                                                                                                  \n",
            " embedding_2 (Embedding)     (None, 1000, 100)            3000000   ['input_2[0][0]']             \n",
            "                                                                                                  \n",
            " conv1d_5 (Conv1D)           (None, 998, 128)             38528     ['embedding_1[0][0]']         \n",
            "                                                                                                  \n",
            " conv1d_6 (Conv1D)           (None, 997, 128)             51328     ['embedding_1[0][0]']         \n",
            "                                                                                                  \n",
            " conv1d_7 (Conv1D)           (None, 996, 128)             64128     ['embedding_1[0][0]']         \n",
            "                                                                                                  \n",
            " conv1d_9 (Conv1D)           (None, 998, 128)             38528     ['embedding_2[0][0]']         \n",
            "                                                                                                  \n",
            " conv1d_10 (Conv1D)          (None, 997, 128)             51328     ['embedding_2[0][0]']         \n",
            "                                                                                                  \n",
            " conv1d_11 (Conv1D)          (None, 996, 128)             64128     ['embedding_2[0][0]']         \n",
            "                                                                                                  \n",
            " max_pooling1d_5 (MaxPoolin  (None, 199, 128)             0         ['conv1d_5[0][0]']            \n",
            " g1D)                                                                                             \n",
            "                                                                                                  \n",
            " max_pooling1d_6 (MaxPoolin  (None, 199, 128)             0         ['conv1d_6[0][0]']            \n",
            " g1D)                                                                                             \n",
            "                                                                                                  \n",
            " max_pooling1d_7 (MaxPoolin  (None, 199, 128)             0         ['conv1d_7[0][0]']            \n",
            " g1D)                                                                                             \n",
            "                                                                                                  \n",
            " max_pooling1d_9 (MaxPoolin  (None, 199, 128)             0         ['conv1d_9[0][0]']            \n",
            " g1D)                                                                                             \n",
            "                                                                                                  \n",
            " max_pooling1d_10 (MaxPooli  (None, 199, 128)             0         ['conv1d_10[0][0]']           \n",
            " ng1D)                                                                                            \n",
            "                                                                                                  \n",
            " max_pooling1d_11 (MaxPooli  (None, 199, 128)             0         ['conv1d_11[0][0]']           \n",
            " ng1D)                                                                                            \n",
            "                                                                                                  \n",
            " concatenate_1 (Concatenate  (None, 597, 128)             0         ['max_pooling1d_5[0][0]',     \n",
            " )                                                                   'max_pooling1d_6[0][0]',     \n",
            "                                                                     'max_pooling1d_7[0][0]']     \n",
            "                                                                                                  \n",
            " concatenate_2 (Concatenate  (None, 597, 128)             0         ['max_pooling1d_9[0][0]',     \n",
            " )                                                                   'max_pooling1d_10[0][0]',    \n",
            "                                                                     'max_pooling1d_11[0][0]']    \n",
            "                                                                                                  \n",
            " conv1d_8 (Conv1D)           (None, 593, 128)             82048     ['concatenate_1[0][0]']       \n",
            "                                                                                                  \n",
            " conv1d_12 (Conv1D)          (None, 593, 128)             82048     ['concatenate_2[0][0]']       \n",
            "                                                                                                  \n",
            " max_pooling1d_8 (MaxPoolin  (None, 19, 128)              0         ['conv1d_8[0][0]']            \n",
            " g1D)                                                                                             \n",
            "                                                                                                  \n",
            " max_pooling1d_12 (MaxPooli  (None, 19, 128)              0         ['conv1d_12[0][0]']           \n",
            " ng1D)                                                                                            \n",
            "                                                                                                  \n",
            " concatenate_3 (Concatenate  (None, 38, 128)              0         ['max_pooling1d_8[0][0]',     \n",
            " )                                                                   'max_pooling1d_12[0][0]']    \n",
            "                                                                                                  \n",
            " flatten_1 (Flatten)         (None, 4864)                 0         ['concatenate_3[0][0]']       \n",
            "                                                                                                  \n",
            " dense_2 (Dense)             (None, 128)                  622720    ['flatten_1[0][0]']           \n",
            "                                                                                                  \n",
            " dropout_1 (Dropout)         (None, 128)                  0         ['dense_2[0][0]']             \n",
            "                                                                                                  \n",
            " dense_3 (Dense)             (None, 1)                    129       ['dropout_1[0][0]']           \n",
            "                                                                                                  \n",
            "==================================================================================================\n",
            "Total params: 7094913 (27.06 MB)\n",
            "Trainable params: 1094913 (4.18 MB)\n",
            "Non-trainable params: 6000000 (22.89 MB)\n",
            "__________________________________________________________________________________________________\n"
          ]
        }
      ]
    },
    {
      "cell_type": "markdown",
      "metadata": {
        "id": "hGNMBDjufrYM"
      },
      "source": [
        "#North Vs South Comparision"
      ]
    },
    {
      "cell_type": "code",
      "execution_count": null,
      "metadata": {
        "id": "Yw6EX735KLyc"
      },
      "outputs": [],
      "source": [
        "testPr = []\n",
        "testRe = []\n",
        "testF1 = []\n",
        "\n",
        "X_train_gn, X_test_gn, y_train_gn, y_test_gn = train_test_split(\n",
        "    data_gn,  # Features (input)\n",
        "    df_gn['label'],  # Target variable (output)\n",
        "    test_size=0.2,  # Proportion of the dataset to include in the test split (20% in this example)\n",
        "    random_state=42  # Seed used by the random number generator for reproducibility\n",
        ")\n",
        "\n",
        "X_train_gs, X_test_gs, y_train_gs, y_test_gs = train_test_split(\n",
        "    data_gs,  # Features (input)\n",
        "    df_gs['label'],  # Target variable (output)\n",
        "    test_size=0.2,  # Proportion of the dataset to include in the test split (20% in this example)\n",
        "    random_state=42  # Seed used by the random number generator for reproducibility\n",
        ")"
      ]
    },
    {
      "cell_type": "code",
      "execution_count": null,
      "metadata": {
        "id": "5QpaFZjSJ_sF",
        "colab": {
          "base_uri": "https://localhost:8080/"
        },
        "outputId": "5ce3ce78-3c81-480c-9783-36fe8ea8235a"
      },
      "outputs": [
        {
          "output_type": "stream",
          "name": "stdout",
          "text": [
            "78/78 [==============================] - 2s 23ms/step - loss: 2.5857 - precision_1: 0.5534 - recall_1: 0.9976\n",
            "78/78 [==============================] - 2s 22ms/step - loss: 0.0120 - precision_1: 0.9952 - recall_1: 0.9968\n"
          ]
        }
      ],
      "source": [
        "NUM_WORDS = 30000\n",
        "EMBEDDING_DIM=100\n",
        "MAX_SEQUENCE_LENGTH = 1000\n",
        "\n",
        "loss, pr, re  = FNDNet_split.evaluate(X_test_gn, y_test_gn)\n",
        "testPr.append(pr)\n",
        "testF1.append((2*pr*re)/(pr+re))\n",
        "testRe.append(re)\n",
        "\n",
        "loss, pr, re  = FNDNet_split.evaluate(X_test_gs, y_test_gs)\n",
        "testPr.append(pr)\n",
        "testF1.append((2*pr*re)/(pr+re))\n",
        "testRe.append(re)"
      ]
    },
    {
      "cell_type": "code",
      "execution_count": null,
      "metadata": {
        "id": "OFMenn5QPvJU",
        "colab": {
          "base_uri": "https://localhost:8080/",
          "height": 472
        },
        "outputId": "29cd4a24-c653-4ecf-d373-d57a074b60e7"
      },
      "outputs": [
        {
          "output_type": "display_data",
          "data": {
            "text/plain": [
              "<Figure size 640x480 with 1 Axes>"
            ],
            "image/png": "[encoded data removed]"
          },
          "metadata": {}
        }
      ],
      "source": [
        "plt.scatter(['North','South'], testPr, label='Precision', color='blue', marker='o')\n",
        "plt.scatter(['North','South'], testF1, label='F1Score', color='green', marker='s')\n",
        "plt.scatter(['North','South'], testRe, label='Recall', color='red', marker='^')\n",
        "\n",
        "# Adding labels and title\n",
        "plt.xlabel('North v South')\n",
        "plt.ylabel('Metric Values')\n",
        "plt.title('Metrics Comparison of trained model')\n",
        "\n",
        "# Adding legend\n",
        "plt.legend()\n",
        "\n",
        "# Displaying the graph\n",
        "plt.show()"
      ]
    },
    {
      "cell_type": "code",
      "execution_count": null,
      "metadata": {
        "id": "2lz7WP2WP_nr",
        "colab": {
          "base_uri": "https://localhost:8080/",
          "height": 658
        },
        "outputId": "7a3f16a7-96ba-42b9-fe18-542cfdb3106f"
      },
      "outputs": [
        {
          "output_type": "stream",
          "name": "stdout",
          "text": [
            "78/78 [==============================] - 2s 20ms/step\n"
          ]
        },
        {
          "output_type": "display_data",
          "data": {
            "text/plain": [
              "<Figure size 1000x700 with 1 Axes>"
            ],
            "image/png": "[encoded data removed]"
          },
          "metadata": {}
        }
      ],
      "source": [
        "predictions = FNDNet_split.predict(X_test_gn)\n",
        "predicted_classes = (predictions > 0.5).astype(int)\n",
        "\n",
        "# Step 2: Compute the confusion matrix\n",
        "cm = confusion_matrix(y_test_gn, predicted_classes)\n",
        "\n",
        "# Display the confusion matrix\n",
        "plt.figure(figsize=(10, 7))\n",
        "sns.heatmap(cm, annot=True, fmt='d', cmap='Blues', cbar=False)\n",
        "plt.xlabel('Predicted Labels')\n",
        "plt.ylabel('True Labels')\n",
        "plt.title('Confusion Matrix GN Test Data')\n",
        "plt.show()"
      ]
    },
    {
      "cell_type": "code",
      "execution_count": null,
      "metadata": {
        "id": "pPAMsB4uvEX-",
        "colab": {
          "base_uri": "https://localhost:8080/",
          "height": 658
        },
        "outputId": "52078a43-654d-4bd1-eda1-9fc0f7a4139f"
      },
      "outputs": [
        {
          "output_type": "stream",
          "name": "stdout",
          "text": [
            "78/78 [==============================] - 2s 21ms/step\n"
          ]
        },
        {
          "output_type": "display_data",
          "data": {
            "text/plain": [
              "<Figure size 1000x700 with 1 Axes>"
            ],
            "image/png": "[encoded data removed]"
          },
          "metadata": {}
        }
      ],
      "source": [
        "predictions = FNDNet_split.predict(X_test_gs)\n",
        "predicted_classes = (predictions > 0.5).astype(int)\n",
        "\n",
        "# Step 2: Compute the confusion matrix\n",
        "cm = confusion_matrix(y_test_gs, predicted_classes)\n",
        "\n",
        "# Display the confusion matrix\n",
        "plt.figure(figsize=(10, 7))\n",
        "sns.heatmap(cm, annot=True, fmt='d', cmap='Blues', cbar=False)\n",
        "plt.xlabel('Predicted Labels')\n",
        "plt.ylabel('True Labels')\n",
        "plt.title('Confusion Matrix GS Test Data')\n",
        "plt.show()"
      ]
    },
    {
      "cell_type": "code",
      "execution_count": null,
      "metadata": {
        "id": "bS07kKf2wAzC"
      },
      "outputs": [],
      "source": []
    }
  ],
  "metadata": {
    "accelerator": "GPU",
    "colab": {
      "gpuType": "T4",
      "provenance": [],
      "toc_visible": true
    },
    "kernelspec": {
      "display_name": "Python 3",
      "name": "python3"
    }
  },
  "nbformat": 4,
  "nbformat_minor": 0
}